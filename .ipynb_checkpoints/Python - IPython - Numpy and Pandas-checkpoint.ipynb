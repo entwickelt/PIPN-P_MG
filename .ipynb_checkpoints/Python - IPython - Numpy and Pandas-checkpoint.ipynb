{
 "cells": [
  {
   "cell_type": "markdown",
   "id": "418710f7",
   "metadata": {},
   "source": [
    "## <center> Python - IPython - Numpy and Pandas\n",
    "    \n",
    "### <center> Notes for Week3 Task1 :: DSA501 Fall2023\n",
    "    \n",
    "<center><b>M. Goruganthu"
   ]
  },
  {
   "cell_type": "markdown",
   "id": "7438202d",
   "metadata": {},
   "source": [
    "badabing badaboom "
   ]
  },
  {
   "cell_type": "markdown",
   "id": "77ea1971",
   "metadata": {},
   "source": []
  }
 ],
 "metadata": {
  "kernelspec": {
   "display_name": "Python 3 (ipykernel)",
   "language": "python",
   "name": "python3"
  },
  "language_info": {
   "codemirror_mode": {
    "name": "ipython",
    "version": 3
   },
   "file_extension": ".py",
   "mimetype": "text/x-python",
   "name": "python",
   "nbconvert_exporter": "python",
   "pygments_lexer": "ipython3",
   "version": "3.9.13"
  }
 },
 "nbformat": 4,
 "nbformat_minor": 5
}
